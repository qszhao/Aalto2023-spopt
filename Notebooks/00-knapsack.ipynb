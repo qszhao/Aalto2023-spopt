{
 "cells": [
  {
   "cell_type": "markdown",
   "id": "c1152e23-db03-460e-ae66-8812d86cda3f",
   "metadata": {},
   "source": [
    "## A Introduction to Mixed Integer Linear Programming\n",
    "\n",
    "*Qunshan Zhao* [Qunshan.Zhao@glasgow.ac.uk](mailto:Qunshan.Zhao@glasgow.ac.uk)\n",
    "\n",
    "Senior Lecturer in Urban Analytics, Urban Big Data Centre, Univeresity of Glasgow"
   ]
  },
  {
   "cell_type": "markdown",
   "id": "baf915b1-10fd-43a0-a295-ce067725d456",
   "metadata": {},
   "source": [
    "[Spatial optimisation](https://doi.org/10.1080/00045608.2012.685044) is the process of solving geographical planning problems using *mathematical programming*. As a starting point, understanding *mathematical programming* is an important step in understanding spatial optimisation methods. Thus, in this workshop, we will start understanding spatial optimisation with a quick tour of an *introductory* mathematical program, the \"Knapsack\" problem. \n",
    "\n",
    "### Vocabulary\n",
    "\n",
    "Every mathematical programming problem has three main parts. First, we first represent the specific decisions we have to make about what site to pick for a fire station or what land use to choose for a parcel of land. These are represented by **decision variables**, and they reflect the things that we can change in order to bring about our desired result. Second, another set of equations, the **constraints**, are used to express the requirements that our decision variables must have in our ideal solution. A solution is called **feasible** when it satisfies all of the **constraints** in a problem, and is **infeasible** when one or more constraints is violated by a proposed solution. Third, we have to specify an **objective function**, which is a calculation that depends on the decision variables which measures how \"good\" a solution is.  A feasible solution can be an **optimal solution** when the solution's **objective value** is the highest it can be while obeying the problem constraints. Thus, the goal of mathematical programming is find the best **decision variable** values that maximise the **objective function** while obeying all **constraints**. The role of a **solution technique** is to take the information contained in the constraints and objective function and generate feasible (hopefully optimal) solutions. This workshop will focus **less** on the specifics of solution techniques in order to focus **more** on how to represent problems in spatial optimisation models. \n",
    "\n",
    "### The Knapsack Problem\n",
    "\n",
    "The knapsack problem is a very simple mathematical programming problem that is designed to mimick planning for packing to go on a trip: we would like to make sure that we *pack our backpack in a way that maximizes the benefit of items we bring.*  In our case, we have $i = 1, 2, ..., n$ items, and we are trying to decide which of the $n$ to bring to school today. This *decision variable*, $x_i$, will be used to represent whether we bring an item or not. Thus, it can either take a value of $0$ if we bring the item or $1$ if we do not. Each item has some benefit $b_i$ to us throughout the school day, so our *objective function* is the sum of the benefits for items we bring. Mathematically, we can represent this as the sum of the benefit value times the decision variable for each item: \n",
    "\n",
    "$$ b_1 * x_1 + b_2 * x_2 + ... + b_n * x_n = \\sum_i^n b_ix_i$$\n",
    "\n",
    "When we do not take an item ($x=0$), we derive no benefit. But, when we *do* take an item ($x=1$), it contributes $b_i$ benefit. This is the *objective function*, since it measures how much benefit we get from our decisions $x$. We would like to *maximize* this, because we intend to maximize the benefit we get from the items we take. \n",
    "\n",
    "However, if we were just able to take all of our items, we would not have a decision problem! Indeed, knapsacks have *limited size*, and we can only fit so many items before it is full. We want to make sure that we only take items that will fit into our knapsack: we want to place a *constraint on the total size of things we take*. To do this, we can imagine that items have a *size*, $s_i$ and the total size of our load is $\\sum_i^n s_i*x_i$ (like our benefit equation above). If we want to make sure that the total size of our load is *smaller than* some knapsack size $c$, we specify the following *size constraint*: \n",
    "\n",
    "$$ \\sum_i^n s_i x_i \\leq c $$\n",
    "\n",
    "Thus, we have just outlined the following *mathematical program*:\n",
    "\n",
    "<div class=\"alert alert-success\" role=\"alert\">\n",
    "<b>The Knapsack Problem </b>\n",
    "\n",
    "*Maximize:* \n",
    "\n",
    "$\\sum_i^n b_ix_i$\n",
    "\n",
    "*Subject To:*\n",
    "\n",
    "1. *Size constraint:*&emsp; $\\sum_i^n s_i x_i \\leq c$\n",
    "2. *Binary decisions:*&emsp; $x_i \\in {0,1} \\ \\ \\forall \\ \\ i = 1, 2, ..., n$\n",
    "</div>\n",
    "\n",
    "In this problem, we have one size constraint as outlined above, and we have *n* decision variables that are constrained to be either zero or one. Thus, we have $n+1$ constraints in total: the number of decision variables is often added to the number of constraints, because the conditions we place on the decision are themselves ways that the values of the problem must be constrained. \n",
    "\n",
    "Solving this problem can be done in a few ways. We will not cover specific solution techniques here, as problems quickly get too complicated to solve using methods that are appropriate for *this* problem. Instead, we will now pivot to *showing* you how to set up and solve the knapsack problem in Python. "
   ]
  },
  {
   "cell_type": "markdown",
   "id": "b162bc0b-9d1b-494d-b6fc-e92654437561",
   "metadata": {},
   "source": [
    "# Programming Examples"
   ]
  },
  {
   "cell_type": "markdown",
   "id": "d4f50ea9-9f3e-4bd7-91a3-b304f04edefa",
   "metadata": {},
   "source": [
    "For now, we will use the following two libraries: "
   ]
  },
  {
   "cell_type": "code",
   "execution_count": 1,
   "id": "fab3815a-1d88-4a4b-a1e0-2ac59fcb122c",
   "metadata": {},
   "outputs": [],
   "source": [
    "import pandas # work with tabular data in Python\n",
    "import pulp # the python package for mathematical programming"
   ]
  },
  {
   "cell_type": "markdown",
   "id": "efe94383-30d0-4ce8-b6b9-015209566760",
   "metadata": {},
   "source": [
    "In our example, let's say you're packing the following items for school into your backpack, which has a total size of 25 units: "
   ]
  },
  {
   "cell_type": "code",
   "execution_count": 2,
   "id": "ddef64ea-0577-4370-94bb-45ae978020a1",
   "metadata": {},
   "outputs": [],
   "source": [
    "items = pandas.DataFrame.from_dict(\n",
    "    dict(\n",
    "        item_name = (\"pencils\", \"notebook\", \"extra paper\", \"pens\", \"water bottle\", \"chewing gum\", \"spare shoes\", \"lunch\", \"granola bar\"),\n",
    "        size = (1, 5, 3, 2, 8, 1, 10, 6, 4),\n",
    "        reward = (2, 2, 1, 1, 3, 1, 2, 2, 1),\n",
    "    )\n",
    ").set_index('item_name')"
   ]
  },
  {
   "cell_type": "code",
   "execution_count": 3,
   "id": "c96088cd-6110-4220-ae5d-2f8952a0b1d2",
   "metadata": {},
   "outputs": [
    {
     "data": {
      "text/html": [
       "<div>\n",
       "<style scoped>\n",
       "    .dataframe tbody tr th:only-of-type {\n",
       "        vertical-align: middle;\n",
       "    }\n",
       "\n",
       "    .dataframe tbody tr th {\n",
       "        vertical-align: top;\n",
       "    }\n",
       "\n",
       "    .dataframe thead th {\n",
       "        text-align: right;\n",
       "    }\n",
       "</style>\n",
       "<table border=\"1\" class=\"dataframe\">\n",
       "  <thead>\n",
       "    <tr style=\"text-align: right;\">\n",
       "      <th></th>\n",
       "      <th>size</th>\n",
       "      <th>reward</th>\n",
       "    </tr>\n",
       "    <tr>\n",
       "      <th>item_name</th>\n",
       "      <th></th>\n",
       "      <th></th>\n",
       "    </tr>\n",
       "  </thead>\n",
       "  <tbody>\n",
       "    <tr>\n",
       "      <th>pencils</th>\n",
       "      <td>1</td>\n",
       "      <td>2</td>\n",
       "    </tr>\n",
       "    <tr>\n",
       "      <th>notebook</th>\n",
       "      <td>5</td>\n",
       "      <td>2</td>\n",
       "    </tr>\n",
       "    <tr>\n",
       "      <th>extra paper</th>\n",
       "      <td>3</td>\n",
       "      <td>1</td>\n",
       "    </tr>\n",
       "    <tr>\n",
       "      <th>pens</th>\n",
       "      <td>2</td>\n",
       "      <td>1</td>\n",
       "    </tr>\n",
       "    <tr>\n",
       "      <th>water bottle</th>\n",
       "      <td>8</td>\n",
       "      <td>3</td>\n",
       "    </tr>\n",
       "    <tr>\n",
       "      <th>chewing gum</th>\n",
       "      <td>1</td>\n",
       "      <td>1</td>\n",
       "    </tr>\n",
       "    <tr>\n",
       "      <th>spare shoes</th>\n",
       "      <td>10</td>\n",
       "      <td>2</td>\n",
       "    </tr>\n",
       "    <tr>\n",
       "      <th>lunch</th>\n",
       "      <td>6</td>\n",
       "      <td>2</td>\n",
       "    </tr>\n",
       "    <tr>\n",
       "      <th>granola bar</th>\n",
       "      <td>4</td>\n",
       "      <td>1</td>\n",
       "    </tr>\n",
       "  </tbody>\n",
       "</table>\n",
       "</div>"
      ],
      "text/plain": [
       "              size  reward\n",
       "item_name                 \n",
       "pencils          1       2\n",
       "notebook         5       2\n",
       "extra paper      3       1\n",
       "pens             2       1\n",
       "water bottle     8       3\n",
       "chewing gum      1       1\n",
       "spare shoes     10       2\n",
       "lunch            6       2\n",
       "granola bar      4       1"
      ]
     },
     "execution_count": 3,
     "metadata": {},
     "output_type": "execute_result"
    }
   ],
   "source": [
    "items"
   ]
  },
  {
   "cell_type": "markdown",
   "id": "9b31f326-c5c0-4f42-8a04-035faa51100c",
   "metadata": {},
   "source": [
    "Each item (such as pencils or your lunch) has a *size* that records how big the item is, and a *reward* that governs how much benefit you get from taking the item. Remember, our goal is to set up the following linear program: \n",
    "\n",
    "\n",
    "<div class=\"alert alert-success\" role=\"alert\">\n",
    "<b>The Knapsack Problem </b>\n",
    "\n",
    "*Maximize:* \n",
    "\n",
    "$\\sum_i^n b_ix_i$\n",
    "\n",
    "*Subject To:*\n",
    "\n",
    "1. *Size constraint:*&emsp; $\\sum_i^n s_i x_i \\leq c$\n",
    "2. *Binary decisions:*&emsp; $x_i \\in {0,1} \\ \\ \\forall \\ \\ i = 1, 2, ..., n$\n",
    "\n",
    "</div>\n"
   ]
  },
  {
   "cell_type": "markdown",
   "id": "e699cbbf-5c83-44b7-8508-5a32a60d796c",
   "metadata": {},
   "source": [
    "So, to start setting up a linear program, we use the `pulp.LpProblem()` function, which requires us to give the problem a name, and also tell `pulp` whether we intend to *maximize* or *minimize* the objective of this problem. The knapsack is a maximization problem, so we will provide the following: "
   ]
  },
  {
   "cell_type": "code",
   "execution_count": 4,
   "id": "ca1e2c0f-7b1a-4d4b-8ba3-a041363f6439",
   "metadata": {},
   "outputs": [],
   "source": [
    "knapsack = pulp.LpProblem(\"knapsack\", pulp.LpMaximize)"
   ]
  },
  {
   "cell_type": "markdown",
   "id": "f528b07d-0eed-444c-abaa-ea2543ca3b28",
   "metadata": {},
   "source": [
    "Then, we can define our decision variables using `pulp.LpVariable()`. This has a few helper methods; we will use `.dict()` to quickly make a *dictionary* (Python's version of a \"hashmap\" or JSON-like datastructure of key:value pairs) containing all of the decision variables by name: "
   ]
  },
  {
   "cell_type": "code",
   "execution_count": 5,
   "id": "bed7756b-af60-4059-bc90-7cc9d8105928",
   "metadata": {},
   "outputs": [],
   "source": [
    "take_item_to_school = pulp.LpVariable.dicts(\"x\", items.index, lowBound=0, upBound=1, cat=pulp.LpInteger)"
   ]
  },
  {
   "cell_type": "code",
   "execution_count": 6,
   "id": "522b0509-e463-48e9-8ae1-10f0e871418b",
   "metadata": {},
   "outputs": [
    {
     "data": {
      "text/plain": [
       "{'pencils': x_pencils,\n",
       " 'notebook': x_notebook,\n",
       " 'extra paper': x_extra_paper,\n",
       " 'pens': x_pens,\n",
       " 'water bottle': x_water_bottle,\n",
       " 'chewing gum': x_chewing_gum,\n",
       " 'spare shoes': x_spare_shoes,\n",
       " 'lunch': x_lunch,\n",
       " 'granola bar': x_granola_bar}"
      ]
     },
     "execution_count": 6,
     "metadata": {},
     "output_type": "execute_result"
    }
   ],
   "source": [
    "take_item_to_school"
   ]
  },
  {
   "cell_type": "markdown",
   "id": "cd943096-f618-4594-960a-fc286b7b178a",
   "metadata": {},
   "source": [
    "Then, we can define the \"benefit\" part of the objective function by multiplying each item's decision variable by its \"reward\" from our dataframe, and then adding it up: "
   ]
  },
  {
   "cell_type": "code",
   "execution_count": 7,
   "id": "ed94d640-967d-4021-b960-71b1c5e89de8",
   "metadata": {},
   "outputs": [],
   "source": [
    "benefit = sum( # sum of: \n",
    "    items.loc[item_name, 'reward'] * take_item_to_school[item_name] # b_i * x_i\n",
    "    for item_name in items.index # for each i\n",
    ")"
   ]
  },
  {
   "cell_type": "markdown",
   "id": "3ca776ce-401b-4487-9d1f-05ff0add8502",
   "metadata": {},
   "source": [
    "`pulp` gives you a nice display of the constraints, so that you can check your specification as you go: "
   ]
  },
  {
   "cell_type": "code",
   "execution_count": 8,
   "id": "c80436a1-193e-47d8-b4be-53629534cf39",
   "metadata": {},
   "outputs": [
    {
     "data": {
      "text/plain": [
       "1*x_chewing_gum + 1*x_extra_paper + 1*x_granola_bar + 2*x_lunch + 2*x_notebook + 2*x_pencils + 1*x_pens + 2*x_spare_shoes + 3*x_water_bottle + 0"
      ]
     },
     "execution_count": 8,
     "metadata": {},
     "output_type": "execute_result"
    }
   ],
   "source": [
    "benefit"
   ]
  },
  {
   "cell_type": "markdown",
   "id": "21c8dff4-79a0-4140-a29d-13b6838bc834",
   "metadata": {},
   "source": [
    "To *add* this objective to the `knapsack` problem we set up earlier, we add the statement to the knapsack object: "
   ]
  },
  {
   "cell_type": "code",
   "execution_count": 10,
   "id": "f14f41f1-8c19-4c01-8fce-8dace201e97f",
   "metadata": {},
   "outputs": [
    {
     "name": "stderr",
     "output_type": "stream",
     "text": [
      "/Users/qzhao/opt/anaconda3/envs/spatialopt/lib/python3.11/site-packages/pulp/pulp.py:1704: UserWarning: Overwriting previously set objective.\n",
      "  warnings.warn(\"Overwriting previously set objective.\")\n"
     ]
    }
   ],
   "source": [
    "knapsack += benefit"
   ]
  },
  {
   "cell_type": "markdown",
   "id": "97fe994e-b09c-40c4-ae5d-ffc8443cef6b",
   "metadata": {},
   "source": [
    "Like the benefit statement, we can construct our *capacity* sum in a similar fashion: "
   ]
  },
  {
   "cell_type": "code",
   "execution_count": 12,
   "id": "f686b1af-dc8e-45b9-9491-cec8a2ee9dc6",
   "metadata": {},
   "outputs": [],
   "source": [
    "capacity = sum( # sum of: \n",
    "    items.loc[item_name, 'size'] * take_item_to_school[item_name] # s_i * x_i\n",
    "    for item_name in items.index # for each i\n",
    ") <= 25 # should be no bigger than 25 units"
   ]
  },
  {
   "cell_type": "markdown",
   "id": "735a411e-bed7-448e-9ac8-74bb37b91b0a",
   "metadata": {},
   "source": [
    "Like before, we can inspect the constraint: "
   ]
  },
  {
   "cell_type": "code",
   "execution_count": 13,
   "id": "e52d318b-7fdf-4a26-a07b-f25a3180bf87",
   "metadata": {},
   "outputs": [
    {
     "data": {
      "text/plain": [
       "1*x_chewing_gum + 3*x_extra_paper + 4*x_granola_bar + 6*x_lunch + 5*x_notebook + 1*x_pencils + 2*x_pens + 10*x_spare_shoes + 8*x_water_bottle + -25 <= 0"
      ]
     },
     "execution_count": 13,
     "metadata": {},
     "output_type": "execute_result"
    }
   ],
   "source": [
    "capacity"
   ]
  },
  {
   "cell_type": "markdown",
   "id": "f67dffe1-8144-46e5-95a5-ba8413e5d9c4",
   "metadata": {},
   "source": [
    "Note that the `25` value has been moved from the \"right-hand\" size of the inequality to the left. `pulp` puts equations into a \"canonical form\", which we will not cover in full, but it suffices here to note that any values on the right-hand size of a constraint get moved to the left to ensure that a \"canonical constraint\" always has something $\\leq 0$.\n",
    "\n",
    "We add the constraint to the problem in the same way as the objective: "
   ]
  },
  {
   "cell_type": "code",
   "execution_count": 14,
   "id": "d21c8c37-4056-4394-b2db-951d263b9e30",
   "metadata": {},
   "outputs": [],
   "source": [
    "knapsack += capacity"
   ]
  },
  {
   "cell_type": "markdown",
   "id": "6790343c-556b-44a2-9e1e-865f5fab9c35",
   "metadata": {},
   "source": [
    "You can inspect the model to see how `pulp` represents it internally. Fortunately for us, this should correspond pretty closely to our statement of the **Knapsack Problem** from above:  \n"
   ]
  },
  {
   "cell_type": "code",
   "execution_count": 15,
   "id": "b9bf4379-da99-464e-a0cc-d971e28311ce",
   "metadata": {},
   "outputs": [
    {
     "data": {
      "text/plain": [
       "knapsack:\n",
       "MAXIMIZE\n",
       "1*x_chewing_gum + 1*x_extra_paper + 1*x_granola_bar + 2*x_lunch + 2*x_notebook + 2*x_pencils + 1*x_pens + 2*x_spare_shoes + 3*x_water_bottle + 0\n",
       "SUBJECT TO\n",
       "_C1: x_chewing_gum + 3 x_extra_paper + 4 x_granola_bar + 6 x_lunch\n",
       " + 5 x_notebook + x_pencils + 2 x_pens + 10 x_spare_shoes + 8 x_water_bottle\n",
       " <= 25\n",
       "\n",
       "VARIABLES\n",
       "0 <= x_chewing_gum <= 1 Integer\n",
       "0 <= x_extra_paper <= 1 Integer\n",
       "0 <= x_granola_bar <= 1 Integer\n",
       "0 <= x_lunch <= 1 Integer\n",
       "0 <= x_notebook <= 1 Integer\n",
       "0 <= x_pencils <= 1 Integer\n",
       "0 <= x_pens <= 1 Integer\n",
       "0 <= x_spare_shoes <= 1 Integer\n",
       "0 <= x_water_bottle <= 1 Integer"
      ]
     },
     "execution_count": 15,
     "metadata": {},
     "output_type": "execute_result"
    }
   ],
   "source": [
    "knapsack"
   ]
  },
  {
   "cell_type": "markdown",
   "id": "ec03b779-067a-4781-a7c5-84b7825562d5",
   "metadata": {},
   "source": [
    "Now, to solve the model, we use the `.solve()` method of the problem. This will dispatch to an open-source solver by default, and print a significant amout of information from the solution technique. We'll ignore this information for now: "
   ]
  },
  {
   "cell_type": "code",
   "execution_count": 16,
   "id": "7661adfd-dffb-4ce9-966a-2f613f69dbbb",
   "metadata": {},
   "outputs": [
    {
     "name": "stdout",
     "output_type": "stream",
     "text": [
      "GLPSOL--GLPK LP/MIP Solver 5.0\n",
      "Parameter(s) specified in the command line:\n",
      " --cpxlp /var/folders/4h/m4wxtk6x2v78kzl8pqqnfdnc0000gp/T/61a58e123b8448b2afab70c6a16073d5-pulp.lp\n",
      " -o /var/folders/4h/m4wxtk6x2v78kzl8pqqnfdnc0000gp/T/61a58e123b8448b2afab70c6a16073d5-pulp.sol\n",
      "Reading problem data from '/var/folders/4h/m4wxtk6x2v78kzl8pqqnfdnc0000gp/T/61a58e123b8448b2afab70c6a16073d5-pulp.lp'...\n",
      "1 row, 9 columns, 9 non-zeros\n",
      "9 integer variables, all of which are binary\n",
      "19 lines were read\n",
      "GLPK Integer Optimizer 5.0\n",
      "1 row, 9 columns, 9 non-zeros\n",
      "9 integer variables, all of which are binary\n",
      "Preprocessing...\n",
      "1 row, 9 columns, 9 non-zeros\n",
      "9 integer variables, all of which are binary\n",
      "Scaling...\n",
      " A: min|aij| =  1.000e+00  max|aij| =  1.000e+01  ratio =  1.000e+01\n",
      "Problem data seem to be well scaled\n",
      "Constructing initial basis...\n",
      "Size of triangular part is 1\n",
      "Solving LP relaxation...\n",
      "GLPK Simplex Optimizer 5.0\n",
      "1 row, 9 columns, 9 non-zeros\n",
      "*     0: obj =  -0.000000000e+00 inf =   0.000e+00 (9)\n",
      "*     8: obj =   1.166666667e+01 inf =   0.000e+00 (0)\n",
      "OPTIMAL LP SOLUTION FOUND\n",
      "Integer optimization begins...\n"
     ]
    },
    {
     "data": {
      "text/plain": [
       "1"
      ]
     },
     "execution_count": 16,
     "metadata": {},
     "output_type": "execute_result"
    },
    {
     "name": "stdout",
     "output_type": "stream",
     "text": [
      "Long-step dual simplex will be used\n",
      "+     8: mip =     not found yet <=              +inf        (1; 0)\n",
      "+    13: >>>>>   1.100000000e+01 <=   1.100000000e+01   0.0% (6; 0)\n",
      "+    13: mip =   1.100000000e+01 <=     tree is empty   0.0% (0; 11)\n",
      "INTEGER OPTIMAL SOLUTION FOUND\n",
      "Time used:   0.0 secs\n",
      "Memory used: 0.1 Mb (55303 bytes)\n",
      "Writing MIP solution to '/var/folders/4h/m4wxtk6x2v78kzl8pqqnfdnc0000gp/T/61a58e123b8448b2afab70c6a16073d5-pulp.sol'...\n"
     ]
    }
   ],
   "source": [
    "knapsack.solve()"
   ]
  },
  {
   "cell_type": "markdown",
   "id": "ac5a0d8d-7d5e-4478-953b-8dd493958ee6",
   "metadata": {},
   "source": [
    "Note that, by the end of the computation, we see `Result - Optimal solution found`, and the return value is `1`, meaning \"success\". The results of the computation are stored in the object, and the different variables we built above. So, the decision variables in `take_item_to_school` should record our result:"
   ]
  },
  {
   "cell_type": "code",
   "execution_count": 18,
   "id": "3d586b10-8b8d-4b22-a7bc-b4c43690f9d3",
   "metadata": {},
   "outputs": [
    {
     "data": {
      "text/plain": [
       "1"
      ]
     },
     "execution_count": 18,
     "metadata": {},
     "output_type": "execute_result"
    }
   ],
   "source": [
    "take_item_to_school['pencils'].varValue"
   ]
  },
  {
   "cell_type": "markdown",
   "id": "15b3fc03-9a66-4bbb-9502-dca30c587493",
   "metadata": {},
   "source": [
    "So, given the size/reward tradeoffs we outlined above in `items`, we should take our pencils to school! You can also see, for example, the objective value: "
   ]
  },
  {
   "cell_type": "code",
   "execution_count": 20,
   "id": "44ded9aa-b276-44e6-8216-25a2eb7176f2",
   "metadata": {},
   "outputs": [
    {
     "data": {
      "text/plain": [
       "11"
      ]
     },
     "execution_count": 20,
     "metadata": {},
     "output_type": "execute_result"
    }
   ],
   "source": [
    "knapsack.objective.value()"
   ]
  },
  {
   "cell_type": "markdown",
   "id": "db5b6c92-760a-4ba0-928e-309e14eea74a",
   "metadata": {},
   "source": [
    "To pull these *all* out and assign them into our dataframe, we can use a comprehension like before: "
   ]
  },
  {
   "cell_type": "code",
   "execution_count": 21,
   "id": "e54af904-8c2f-4c0d-8217-c61e5908599f",
   "metadata": {},
   "outputs": [
    {
     "data": {
      "text/html": [
       "<div>\n",
       "<style scoped>\n",
       "    .dataframe tbody tr th:only-of-type {\n",
       "        vertical-align: middle;\n",
       "    }\n",
       "\n",
       "    .dataframe tbody tr th {\n",
       "        vertical-align: top;\n",
       "    }\n",
       "\n",
       "    .dataframe thead th {\n",
       "        text-align: right;\n",
       "    }\n",
       "</style>\n",
       "<table border=\"1\" class=\"dataframe\">\n",
       "  <thead>\n",
       "    <tr style=\"text-align: right;\">\n",
       "      <th></th>\n",
       "      <th>size</th>\n",
       "      <th>reward</th>\n",
       "      <th>was_taken</th>\n",
       "    </tr>\n",
       "    <tr>\n",
       "      <th>item_name</th>\n",
       "      <th></th>\n",
       "      <th></th>\n",
       "      <th></th>\n",
       "    </tr>\n",
       "  </thead>\n",
       "  <tbody>\n",
       "    <tr>\n",
       "      <th>pencils</th>\n",
       "      <td>1</td>\n",
       "      <td>2</td>\n",
       "      <td>1</td>\n",
       "    </tr>\n",
       "    <tr>\n",
       "      <th>notebook</th>\n",
       "      <td>5</td>\n",
       "      <td>2</td>\n",
       "      <td>1</td>\n",
       "    </tr>\n",
       "    <tr>\n",
       "      <th>extra paper</th>\n",
       "      <td>3</td>\n",
       "      <td>1</td>\n",
       "      <td>1</td>\n",
       "    </tr>\n",
       "    <tr>\n",
       "      <th>pens</th>\n",
       "      <td>2</td>\n",
       "      <td>1</td>\n",
       "      <td>1</td>\n",
       "    </tr>\n",
       "    <tr>\n",
       "      <th>water bottle</th>\n",
       "      <td>8</td>\n",
       "      <td>3</td>\n",
       "      <td>1</td>\n",
       "    </tr>\n",
       "    <tr>\n",
       "      <th>chewing gum</th>\n",
       "      <td>1</td>\n",
       "      <td>1</td>\n",
       "      <td>0</td>\n",
       "    </tr>\n",
       "    <tr>\n",
       "      <th>spare shoes</th>\n",
       "      <td>10</td>\n",
       "      <td>2</td>\n",
       "      <td>0</td>\n",
       "    </tr>\n",
       "    <tr>\n",
       "      <th>lunch</th>\n",
       "      <td>6</td>\n",
       "      <td>2</td>\n",
       "      <td>1</td>\n",
       "    </tr>\n",
       "    <tr>\n",
       "      <th>granola bar</th>\n",
       "      <td>4</td>\n",
       "      <td>1</td>\n",
       "      <td>0</td>\n",
       "    </tr>\n",
       "  </tbody>\n",
       "</table>\n",
       "</div>"
      ],
      "text/plain": [
       "              size  reward  was_taken\n",
       "item_name                            \n",
       "pencils          1       2          1\n",
       "notebook         5       2          1\n",
       "extra paper      3       1          1\n",
       "pens             2       1          1\n",
       "water bottle     8       3          1\n",
       "chewing gum      1       1          0\n",
       "spare shoes     10       2          0\n",
       "lunch            6       2          1\n",
       "granola bar      4       1          0"
      ]
     },
     "execution_count": 21,
     "metadata": {},
     "output_type": "execute_result"
    }
   ],
   "source": [
    "items.assign(was_taken = [take_item_to_school[item_name].varValue for item_name in items.index])"
   ]
  },
  {
   "cell_type": "markdown",
   "id": "839b24e6-fa9d-4895-90cd-28c91f0c8c50",
   "metadata": {},
   "source": [
    "Thus, we should take our pencils, notebook, pens, waterbottle, chewing gum, and our lunch, which gives us a benefit of 2+2+1+1+3+2 = 11, as we saw before. This means we're taking 1+5+3+2+8+6=25 units of volume, leaving 0 extra units of room. We are leaving behind our granola bar snack, our spare shoes for gym class, and chewing gum, since none of those can fit in the space. If we have left-over space, we called it the *slack* for that constraint. It is very useful in thinking about solution techniques and formulating additional problems, but we'll ignore it for now. \n",
    "\n",
    "Regardless: we have solved our problem 🎉🙌"
   ]
  },
  {
   "cell_type": "markdown",
   "id": "a620fa76-7eb2-40b9-9fd6-2b70f255492b",
   "metadata": {},
   "source": [
    "# Tutorials\n",
    "\n",
    "Now it is your turn. Using the techniques shown above, can you solve the following *extension* problems? "
   ]
  },
  {
   "cell_type": "markdown",
   "id": "81312aa4-fc43-45ac-b26a-9fb38bd30378",
   "metadata": {},
   "source": [
    "## An Important Math Test"
   ]
  },
  {
   "cell_type": "markdown",
   "id": "07d03cda-a3af-44e2-90b8-bd901eed00fb",
   "metadata": {},
   "source": [
    "You have a very important math test today. In order to be prepared for it, you have to consider [a few different items](https://vimeo.com/77451201) because of this: "
   ]
  },
  {
   "cell_type": "code",
   "execution_count": 18,
   "id": "b6fc0fcb-a5b2-4fa7-8561-d0c7a4c2d1d6",
   "metadata": {},
   "outputs": [
    {
     "data": {
      "text/html": [
       "<div>\n",
       "<style scoped>\n",
       "    .dataframe tbody tr th:only-of-type {\n",
       "        vertical-align: middle;\n",
       "    }\n",
       "\n",
       "    .dataframe tbody tr th {\n",
       "        vertical-align: top;\n",
       "    }\n",
       "\n",
       "    .dataframe thead th {\n",
       "        text-align: right;\n",
       "    }\n",
       "</style>\n",
       "<table border=\"1\" class=\"dataframe\">\n",
       "  <thead>\n",
       "    <tr style=\"text-align: right;\">\n",
       "      <th></th>\n",
       "      <th>size</th>\n",
       "      <th>reward</th>\n",
       "    </tr>\n",
       "    <tr>\n",
       "      <th>item_name</th>\n",
       "      <th></th>\n",
       "      <th></th>\n",
       "    </tr>\n",
       "  </thead>\n",
       "  <tbody>\n",
       "    <tr>\n",
       "      <th>pencils</th>\n",
       "      <td>1</td>\n",
       "      <td>2</td>\n",
       "    </tr>\n",
       "    <tr>\n",
       "      <th>notebook</th>\n",
       "      <td>5</td>\n",
       "      <td>2</td>\n",
       "    </tr>\n",
       "    <tr>\n",
       "      <th>extra paper</th>\n",
       "      <td>3</td>\n",
       "      <td>1</td>\n",
       "    </tr>\n",
       "    <tr>\n",
       "      <th>pens</th>\n",
       "      <td>2</td>\n",
       "      <td>1</td>\n",
       "    </tr>\n",
       "    <tr>\n",
       "      <th>water bottle</th>\n",
       "      <td>8</td>\n",
       "      <td>3</td>\n",
       "    </tr>\n",
       "    <tr>\n",
       "      <th>chewing gum</th>\n",
       "      <td>1</td>\n",
       "      <td>1</td>\n",
       "    </tr>\n",
       "    <tr>\n",
       "      <th>spare shoes</th>\n",
       "      <td>10</td>\n",
       "      <td>2</td>\n",
       "    </tr>\n",
       "    <tr>\n",
       "      <th>lunch</th>\n",
       "      <td>6</td>\n",
       "      <td>2</td>\n",
       "    </tr>\n",
       "    <tr>\n",
       "      <th>granola bar</th>\n",
       "      <td>4</td>\n",
       "      <td>1</td>\n",
       "    </tr>\n",
       "    <tr>\n",
       "      <th>protractor</th>\n",
       "      <td>1</td>\n",
       "      <td>2</td>\n",
       "    </tr>\n",
       "    <tr>\n",
       "      <th>calculator</th>\n",
       "      <td>4</td>\n",
       "      <td>4</td>\n",
       "    </tr>\n",
       "    <tr>\n",
       "      <th>pair of compasses</th>\n",
       "      <td>2</td>\n",
       "      <td>2</td>\n",
       "    </tr>\n",
       "    <tr>\n",
       "      <th>garry gum</th>\n",
       "      <td>1</td>\n",
       "      <td>2</td>\n",
       "    </tr>\n",
       "  </tbody>\n",
       "</table>\n",
       "</div>"
      ],
      "text/plain": [
       "                   size  reward\n",
       "item_name                      \n",
       "pencils               1       2\n",
       "notebook              5       2\n",
       "extra paper           3       1\n",
       "pens                  2       1\n",
       "water bottle          8       3\n",
       "chewing gum           1       1\n",
       "spare shoes          10       2\n",
       "lunch                 6       2\n",
       "granola bar           4       1\n",
       "protractor            1       2\n",
       "calculator            4       4\n",
       "pair of compasses     2       2\n",
       "garry gum             1       2"
      ]
     },
     "execution_count": 18,
     "metadata": {},
     "output_type": "execute_result"
    }
   ],
   "source": [
    "test_items = pandas.DataFrame.from_dict(\n",
    "    dict(\n",
    "        item_name = (\"protractor\", \"calculator\", \"pair of compasses\", \"garry gum\"),\n",
    "        size = (1, 4, 2, 1),\n",
    "        reward = (2, 4, 2, 2)\n",
    "        \n",
    "    )\n",
    ").set_index(\"item_name\")\n",
    "\n",
    "math_test = pandas.concat((items, test_items))\n",
    "math_test"
   ]
  },
  {
   "cell_type": "markdown",
   "id": "637472db-1d01-44f4-baba-989e6c4b806f",
   "metadata": {},
   "source": [
    "<div class=\"alert alert-warning\">\n",
    "Using the methods we discussed above, can you create a new knapsack problem object to solve this <b>new</b> problem? Are you going to be well-prepared for your math test? why or why not?\n",
    "</div>"
   ]
  },
  {
   "cell_type": "markdown",
   "id": "35891de0-63e0-49b9-9851-9e1ccaf706a8",
   "metadata": {},
   "source": [
    "## The Grand Gum Ban"
   ]
  },
  {
   "cell_type": "markdown",
   "id": "650d4760-eba8-4b04-b29c-154655caf2ae",
   "metadata": {},
   "source": [
    "When packing for your math test, you remember that your school's ban on chewing gum has come into force today, so you derive *no* benefit from taking your gum to school: "
   ]
  },
  {
   "cell_type": "code",
   "execution_count": 19,
   "id": "2e681868-0a4a-4e2c-9583-75b2cf23fc59",
   "metadata": {},
   "outputs": [],
   "source": [
    "gum_ban = math_test.copy()\n",
    "gum_ban.loc['chewing gum', 'reward'] = 0"
   ]
  },
  {
   "cell_type": "markdown",
   "id": "4643ed0c-ad19-4d62-9f69-fc2f6374ab45",
   "metadata": {},
   "source": [
    "<div class=\"alert alert-warning\">\n",
    "Using the methods we discussed above, can you create a new knapsack problem object to solve this <b>new</b> problem? How does the solution differ? from that which you found in <b>An Important Math Test</b>?\n",
    "</div>"
   ]
  },
  {
   "cell_type": "markdown",
   "id": "2a797369-0fdf-418c-ba55-010e7971d15c",
   "metadata": {},
   "source": [
    "## Challenge: If I catch you without your shoes again one more time...!"
   ]
  },
  {
   "cell_type": "markdown",
   "id": "67f3cf41-c731-4e42-8d83-bbaa8b1dcdbf",
   "metadata": {},
   "source": [
    "Your Physical Education teacher is very upset that you have \"forgotten\" to bring your spare shoes so often.\n",
    "<div class=\"alert alert-warning\">\n",
    "Can you implement a <i>new constraint</i> that makes sure you bring your spare shoes to school? If not, how high do you have to set the \"spare shoes\" reward until it becomes optimal to bring the shoes? \n",
    "</div>"
   ]
  },
  {
   "cell_type": "markdown",
   "id": "873229c0-d6f0-406d-832c-6e732faf5cb3",
   "metadata": {},
   "source": [
    "# Review"
   ]
  },
  {
   "cell_type": "markdown",
   "id": "373079b4-39a8-4804-a7bc-e24a07010394",
   "metadata": {},
   "source": [
    "Mathematical programs are a way of formalising our decision-making structures. They help us make decisions about complicated systems of equations and reason about how *good* our solutions are relative to other possible solutions. Every problem has three parts: \n",
    "\n",
    "1. the *decision variables* that represent the decisions we intend to make,\n",
    "2. the *objective function* that represents how \"good\" a given solution to our problem is, and\n",
    "3. the *constraints* that represent the limitations on decision variables that affect our solutions.\n",
    "\n",
    "We formulate a mathematical programming using these three structures, and then *solve* the problem using a solution technique. *Mathematical programming* problems show up in a very large variety of settings, are computationally challenging to solve optimally, and are particularly useful in geography because they let us formalise our decision-making about spatial planning systems. We have solved an *aspatial knapsack* problem in order to illustrate the structure of general mathematical programming problems, and will use the concepts and vocabulary here to structure more complex *spatial* optimisation problem. \n",
    "\n",
    "\n",
    "In our next notebook, we will cover a family of problems known as the *location-allocation* family, when trying to solve a classically-useful problem: the *p*-median problem. "
   ]
  },
  {
   "cell_type": "code",
   "execution_count": null,
   "id": "e5b61c07-75b6-4419-b5da-089c30bf0e4b",
   "metadata": {},
   "outputs": [],
   "source": []
  }
 ],
 "metadata": {
  "kernelspec": {
   "display_name": "Python 3",
   "language": "python",
   "name": "python3"
  },
  "language_info": {
   "codemirror_mode": {
    "name": "ipython",
    "version": 3
   },
   "file_extension": ".py",
   "mimetype": "text/x-python",
   "name": "python",
   "nbconvert_exporter": "python",
   "pygments_lexer": "ipython3",
   "version": "3.8.8"
  }
 },
 "nbformat": 4,
 "nbformat_minor": 5
}
